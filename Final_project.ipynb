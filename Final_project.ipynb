{
 "cells": [
  {
   "cell_type": "markdown",
   "metadata": {},
   "source": [
    "Вариант № 1, выполнил Евгений Амелин. \n",
    "Поток № 42 от 19.06.2023"
   ]
  },
  {
   "cell_type": "code",
   "execution_count": 21,
   "metadata": {},
   "outputs": [],
   "source": [
    "import pandas as pd\n",
    "%matplotlib inline\n",
    "import seaborn as sns\n",
    "from scipy import stats\n",
    "from statistics import variance\n",
    "from scipy.stats import levene\n",
    "import pingouin as pg\n",
    "from scipy.stats import chi2_contingency\n",
    "\n",
    "sns.set(\n",
    "    font_scale=2,\n",
    "    style=\"whitegrid\",\n",
    "    rc={'figure.figsize': (20, 7)}\n",
    "       )\n"
   ]
  },
  {
   "cell_type": "markdown",
   "metadata": {},
   "source": [
    "#### Задание 1\n",
    "Retention – один из самых важных показателей в компании. Ваша задача – написать функцию, которая будет считать retention игроков (по дням от даты регистрации игрока). Данные лежат в папке shared и имеют следующую структуру:\n",
    "\n",
    "problem1-reg_data.csv – данные о времени регистрации\n",
    "\n",
    "problem1-auth_data.csv – данные о времени захода пользователей в игру\n",
    "\n",
    "Функция должна быть написана на python. В ходе решения можно тестировать работу функции как на полном датасете, так и на части (сэмпле) данных."
   ]
  },
  {
   "cell_type": "code",
   "execution_count": 22,
   "metadata": {},
   "outputs": [],
   "source": [
    "# Загрузим данные\n",
    "reg = pd.read_csv('problem1-reg_data.csv', sep=\";\")\n",
    "auth = pd.read_csv('problem1-auth_data.csv', sep=\";\")"
   ]
  },
  {
   "cell_type": "code",
   "execution_count": 23,
   "metadata": {},
   "outputs": [],
   "source": [
    "# Приведем столбцы reg_ts, auth_ts к понятному формату даты.\n",
    "reg['reg_ts'] = pd.to_datetime(reg['reg_ts'], origin='unix', unit='s')\n",
    "auth['auth_ts'] = pd.to_datetime(auth['auth_ts'], origin='unix', unit='s')"
   ]
  },
  {
   "cell_type": "code",
   "execution_count": 24,
   "metadata": {},
   "outputs": [
    {
     "data": {
      "text/html": [
       "<div>\n",
       "<style scoped>\n",
       "    .dataframe tbody tr th:only-of-type {\n",
       "        vertical-align: middle;\n",
       "    }\n",
       "\n",
       "    .dataframe tbody tr th {\n",
       "        vertical-align: top;\n",
       "    }\n",
       "\n",
       "    .dataframe thead th {\n",
       "        text-align: right;\n",
       "    }\n",
       "</style>\n",
       "<table border=\"1\" class=\"dataframe\">\n",
       "  <thead>\n",
       "    <tr style=\"text-align: right;\">\n",
       "      <th></th>\n",
       "      <th>reg_ts</th>\n",
       "      <th>uid</th>\n",
       "    </tr>\n",
       "  </thead>\n",
       "  <tbody>\n",
       "    <tr>\n",
       "      <th>0</th>\n",
       "      <td>1998-11-18 09:43:43</td>\n",
       "      <td>1</td>\n",
       "    </tr>\n",
       "    <tr>\n",
       "      <th>1</th>\n",
       "      <td>1999-07-22 22:38:09</td>\n",
       "      <td>2</td>\n",
       "    </tr>\n",
       "    <tr>\n",
       "      <th>2</th>\n",
       "      <td>2000-01-13 22:27:27</td>\n",
       "      <td>3</td>\n",
       "    </tr>\n",
       "    <tr>\n",
       "      <th>3</th>\n",
       "      <td>2000-05-28 14:19:01</td>\n",
       "      <td>4</td>\n",
       "    </tr>\n",
       "    <tr>\n",
       "      <th>4</th>\n",
       "      <td>2000-09-16 11:21:53</td>\n",
       "      <td>5</td>\n",
       "    </tr>\n",
       "  </tbody>\n",
       "</table>\n",
       "</div>"
      ],
      "text/plain": [
       "               reg_ts  uid\n",
       "0 1998-11-18 09:43:43    1\n",
       "1 1999-07-22 22:38:09    2\n",
       "2 2000-01-13 22:27:27    3\n",
       "3 2000-05-28 14:19:01    4\n",
       "4 2000-09-16 11:21:53    5"
      ]
     },
     "execution_count": 24,
     "metadata": {},
     "output_type": "execute_result"
    }
   ],
   "source": [
    "# Посмотрим на данные, их кол-во, типы, пропуски.\n",
    "reg.head()"
   ]
  },
  {
   "cell_type": "code",
   "execution_count": 25,
   "metadata": {},
   "outputs": [
    {
     "data": {
      "text/plain": [
       "(1000000, 2)"
      ]
     },
     "execution_count": 25,
     "metadata": {},
     "output_type": "execute_result"
    }
   ],
   "source": [
    "reg.shape"
   ]
  },
  {
   "cell_type": "code",
   "execution_count": 26,
   "metadata": {},
   "outputs": [
    {
     "data": {
      "text/plain": [
       "reg_ts    1000000\n",
       "uid       1000000\n",
       "dtype: int64"
      ]
     },
     "execution_count": 26,
     "metadata": {},
     "output_type": "execute_result"
    }
   ],
   "source": [
    "# Всего  1000000 регистраций пользователей, все Id уникальные.\n",
    "reg.nunique()"
   ]
  },
  {
   "cell_type": "code",
   "execution_count": 27,
   "metadata": {},
   "outputs": [
    {
     "data": {
      "text/html": [
       "<div>\n",
       "<style scoped>\n",
       "    .dataframe tbody tr th:only-of-type {\n",
       "        vertical-align: middle;\n",
       "    }\n",
       "\n",
       "    .dataframe tbody tr th {\n",
       "        vertical-align: top;\n",
       "    }\n",
       "\n",
       "    .dataframe thead th {\n",
       "        text-align: right;\n",
       "    }\n",
       "</style>\n",
       "<table border=\"1\" class=\"dataframe\">\n",
       "  <thead>\n",
       "    <tr style=\"text-align: right;\">\n",
       "      <th></th>\n",
       "      <th>auth_ts</th>\n",
       "      <th>uid</th>\n",
       "    </tr>\n",
       "  </thead>\n",
       "  <tbody>\n",
       "    <tr>\n",
       "      <th>0</th>\n",
       "      <td>1998-11-18 09:43:43</td>\n",
       "      <td>1</td>\n",
       "    </tr>\n",
       "    <tr>\n",
       "      <th>1</th>\n",
       "      <td>1999-07-22 22:38:09</td>\n",
       "      <td>2</td>\n",
       "    </tr>\n",
       "    <tr>\n",
       "      <th>2</th>\n",
       "      <td>1999-07-25 16:46:46</td>\n",
       "      <td>2</td>\n",
       "    </tr>\n",
       "    <tr>\n",
       "      <th>3</th>\n",
       "      <td>1999-07-31 03:50:15</td>\n",
       "      <td>2</td>\n",
       "    </tr>\n",
       "    <tr>\n",
       "      <th>4</th>\n",
       "      <td>1999-08-05 17:49:39</td>\n",
       "      <td>2</td>\n",
       "    </tr>\n",
       "  </tbody>\n",
       "</table>\n",
       "</div>"
      ],
      "text/plain": [
       "              auth_ts  uid\n",
       "0 1998-11-18 09:43:43    1\n",
       "1 1999-07-22 22:38:09    2\n",
       "2 1999-07-25 16:46:46    2\n",
       "3 1999-07-31 03:50:15    2\n",
       "4 1999-08-05 17:49:39    2"
      ]
     },
     "execution_count": 27,
     "metadata": {},
     "output_type": "execute_result"
    }
   ],
   "source": [
    "auth.head()"
   ]
  },
  {
   "cell_type": "code",
   "execution_count": 28,
   "metadata": {},
   "outputs": [
    {
     "data": {
      "text/plain": [
       "(9601013, 2)"
      ]
     },
     "execution_count": 28,
     "metadata": {},
     "output_type": "execute_result"
    }
   ],
   "source": [
    "auth.shape"
   ]
  },
  {
   "cell_type": "code",
   "execution_count": 29,
   "metadata": {},
   "outputs": [
    {
     "name": "stdout",
     "output_type": "stream",
     "text": [
      "<class 'pandas.core.frame.DataFrame'>\n",
      "RangeIndex: 1000000 entries, 0 to 999999\n",
      "Data columns (total 2 columns):\n",
      " #   Column  Non-Null Count    Dtype         \n",
      "---  ------  --------------    -----         \n",
      " 0   reg_ts  1000000 non-null  datetime64[ns]\n",
      " 1   uid     1000000 non-null  int64         \n",
      "dtypes: datetime64[ns](1), int64(1)\n",
      "memory usage: 15.3 MB\n"
     ]
    }
   ],
   "source": [
    "# Пропусков в значениях нет, данные в корректном типе\n",
    "reg.info()"
   ]
  },
  {
   "cell_type": "code",
   "execution_count": 30,
   "metadata": {},
   "outputs": [
    {
     "name": "stdout",
     "output_type": "stream",
     "text": [
      "<class 'pandas.core.frame.DataFrame'>\n",
      "RangeIndex: 9601013 entries, 0 to 9601012\n",
      "Data columns (total 2 columns):\n",
      " #   Column   Dtype         \n",
      "---  ------   -----         \n",
      " 0   auth_ts  datetime64[ns]\n",
      " 1   uid      int64         \n",
      "dtypes: datetime64[ns](1), int64(1)\n",
      "memory usage: 146.5 MB\n"
     ]
    }
   ],
   "source": [
    "auth.info()"
   ]
  },
  {
   "cell_type": "code",
   "execution_count": 31,
   "metadata": {},
   "outputs": [
    {
     "data": {
      "text/plain": [
       "auth_ts    9180915\n",
       "uid        1000000\n",
       "dtype: int64"
      ]
     },
     "execution_count": 31,
     "metadata": {},
     "output_type": "execute_result"
    }
   ],
   "source": [
    "# Кол-во уникальных пользователей совпадает. Если при мердже не появится лишних строк, значит все хорошо.\n",
    "auth.nunique()"
   ]
  },
  {
   "cell_type": "code",
   "execution_count": 32,
   "metadata": {},
   "outputs": [],
   "source": [
    "# Перед написанием функции проделаем все операции пошагово\n",
    "# Объединим таблицы по Id\n",
    "df = reg.merge(auth)"
   ]
  },
  {
   "cell_type": "code",
   "execution_count": 33,
   "metadata": {},
   "outputs": [
    {
     "data": {
      "text/plain": [
       "1000000"
      ]
     },
     "execution_count": 33,
     "metadata": {},
     "output_type": "execute_result"
    }
   ],
   "source": [
    "df.uid.nunique()"
   ]
  },
  {
   "cell_type": "code",
   "execution_count": 34,
   "metadata": {},
   "outputs": [
    {
     "data": {
      "text/plain": [
       "Timestamp('1998-11-18 09:43:43')"
      ]
     },
     "execution_count": 34,
     "metadata": {},
     "output_type": "execute_result"
    }
   ],
   "source": [
    "# Посмотрев на даты, заметим, что данные у нас за 20+лет.\n",
    "df.reg_ts.min()"
   ]
  },
  {
   "cell_type": "code",
   "execution_count": 35,
   "metadata": {},
   "outputs": [
    {
     "data": {
      "text/plain": [
       "Timestamp('2020-09-23 15:17:24')"
      ]
     },
     "execution_count": 35,
     "metadata": {},
     "output_type": "execute_result"
    }
   ],
   "source": [
    "df.reg_ts.max()"
   ]
  },
  {
   "cell_type": "code",
   "execution_count": 36,
   "metadata": {},
   "outputs": [
    {
     "data": {
      "text/plain": [
       "Timestamp('2020-09-23 15:17:24')"
      ]
     },
     "execution_count": 36,
     "metadata": {},
     "output_type": "execute_result"
    }
   ],
   "source": [
    "df.auth_ts.max()"
   ]
  },
  {
   "cell_type": "code",
   "execution_count": 37,
   "metadata": {},
   "outputs": [
    {
     "data": {
      "text/html": [
       "<div>\n",
       "<style scoped>\n",
       "    .dataframe tbody tr th:only-of-type {\n",
       "        vertical-align: middle;\n",
       "    }\n",
       "\n",
       "    .dataframe tbody tr th {\n",
       "        vertical-align: top;\n",
       "    }\n",
       "\n",
       "    .dataframe thead th {\n",
       "        text-align: right;\n",
       "    }\n",
       "</style>\n",
       "<table border=\"1\" class=\"dataframe\">\n",
       "  <thead>\n",
       "    <tr style=\"text-align: right;\">\n",
       "      <th></th>\n",
       "      <th>reg_ts</th>\n",
       "      <th>uid</th>\n",
       "      <th>auth_ts</th>\n",
       "    </tr>\n",
       "  </thead>\n",
       "  <tbody>\n",
       "    <tr>\n",
       "      <th>0</th>\n",
       "      <td>1998-11-18 09:43:43</td>\n",
       "      <td>1</td>\n",
       "      <td>1998-11-18 09:43:43</td>\n",
       "    </tr>\n",
       "    <tr>\n",
       "      <th>1</th>\n",
       "      <td>1999-07-22 22:38:09</td>\n",
       "      <td>2</td>\n",
       "      <td>1999-07-22 22:38:09</td>\n",
       "    </tr>\n",
       "    <tr>\n",
       "      <th>2</th>\n",
       "      <td>1999-07-22 22:38:09</td>\n",
       "      <td>2</td>\n",
       "      <td>1999-07-25 16:46:46</td>\n",
       "    </tr>\n",
       "    <tr>\n",
       "      <th>3</th>\n",
       "      <td>1999-07-22 22:38:09</td>\n",
       "      <td>2</td>\n",
       "      <td>1999-07-31 03:50:15</td>\n",
       "    </tr>\n",
       "    <tr>\n",
       "      <th>4</th>\n",
       "      <td>1999-07-22 22:38:09</td>\n",
       "      <td>2</td>\n",
       "      <td>1999-08-05 17:49:39</td>\n",
       "    </tr>\n",
       "  </tbody>\n",
       "</table>\n",
       "</div>"
      ],
      "text/plain": [
       "               reg_ts  uid             auth_ts\n",
       "0 1998-11-18 09:43:43    1 1998-11-18 09:43:43\n",
       "1 1999-07-22 22:38:09    2 1999-07-22 22:38:09\n",
       "2 1999-07-22 22:38:09    2 1999-07-25 16:46:46\n",
       "3 1999-07-22 22:38:09    2 1999-07-31 03:50:15\n",
       "4 1999-07-22 22:38:09    2 1999-08-05 17:49:39"
      ]
     },
     "execution_count": 37,
     "metadata": {},
     "output_type": "execute_result"
    }
   ],
   "source": [
    "df.head()"
   ]
  },
  {
   "cell_type": "code",
   "execution_count": 38,
   "metadata": {},
   "outputs": [],
   "source": [
    "# Упростим дату регистрации до месяца\n",
    "df['cohort'] = df.reg_ts.dt.to_period('M')"
   ]
  },
  {
   "cell_type": "code",
   "execution_count": 39,
   "metadata": {},
   "outputs": [
    {
     "data": {
      "text/html": [
       "<div>\n",
       "<style scoped>\n",
       "    .dataframe tbody tr th:only-of-type {\n",
       "        vertical-align: middle;\n",
       "    }\n",
       "\n",
       "    .dataframe tbody tr th {\n",
       "        vertical-align: top;\n",
       "    }\n",
       "\n",
       "    .dataframe thead th {\n",
       "        text-align: right;\n",
       "    }\n",
       "</style>\n",
       "<table border=\"1\" class=\"dataframe\">\n",
       "  <thead>\n",
       "    <tr style=\"text-align: right;\">\n",
       "      <th></th>\n",
       "      <th>reg_ts</th>\n",
       "    </tr>\n",
       "    <tr>\n",
       "      <th>cohort</th>\n",
       "      <th></th>\n",
       "    </tr>\n",
       "  </thead>\n",
       "  <tbody>\n",
       "    <tr>\n",
       "      <th>1998-11</th>\n",
       "      <td>1</td>\n",
       "    </tr>\n",
       "    <tr>\n",
       "      <th>1999-07</th>\n",
       "      <td>1929</td>\n",
       "    </tr>\n",
       "    <tr>\n",
       "      <th>2000-01</th>\n",
       "      <td>1</td>\n",
       "    </tr>\n",
       "    <tr>\n",
       "      <th>2000-05</th>\n",
       "      <td>1</td>\n",
       "    </tr>\n",
       "    <tr>\n",
       "      <th>2000-09</th>\n",
       "      <td>1</td>\n",
       "    </tr>\n",
       "    <tr>\n",
       "      <th>...</th>\n",
       "      <td>...</td>\n",
       "    </tr>\n",
       "    <tr>\n",
       "      <th>2020-05</th>\n",
       "      <td>151939</td>\n",
       "    </tr>\n",
       "    <tr>\n",
       "      <th>2020-06</th>\n",
       "      <td>135940</td>\n",
       "    </tr>\n",
       "    <tr>\n",
       "      <th>2020-07</th>\n",
       "      <td>131604</td>\n",
       "    </tr>\n",
       "    <tr>\n",
       "      <th>2020-08</th>\n",
       "      <td>116598</td>\n",
       "    </tr>\n",
       "    <tr>\n",
       "      <th>2020-09</th>\n",
       "      <td>55810</td>\n",
       "    </tr>\n",
       "  </tbody>\n",
       "</table>\n",
       "<p>235 rows × 1 columns</p>\n",
       "</div>"
      ],
      "text/plain": [
       "         reg_ts\n",
       "cohort         \n",
       "1998-11       1\n",
       "1999-07    1929\n",
       "2000-01       1\n",
       "2000-05       1\n",
       "2000-09       1\n",
       "...         ...\n",
       "2020-05  151939\n",
       "2020-06  135940\n",
       "2020-07  131604\n",
       "2020-08  116598\n",
       "2020-09   55810\n",
       "\n",
       "[235 rows x 1 columns]"
      ]
     },
     "execution_count": 39,
     "metadata": {},
     "output_type": "execute_result"
    }
   ],
   "source": [
    "# Если посмотреть каждый год. \n",
    "# До 2005 года за исключением 1999, кол-во новых пользователей колеблется от 1 до 17. \n",
    "# Возможно в 1999 была попытка запустить проект, но не успешно(бета-тест по итогу которого было много негативных замечаний)\n",
    "# И до 2005 велась видимо разработка с привличением возможно друзей(знакомых), для получения какой-то обратной связи об игре.\n",
    "# Начиная с 2005, начинает появляться активность, не каждый месяц(возможно реклама, или раздача ключей на бесплатное бета тестирование)\n",
    "df.groupby('cohort').agg({'reg_ts': 'count'})"
   ]
  },
  {
   "cell_type": "code",
   "execution_count": 40,
   "metadata": {},
   "outputs": [],
   "source": [
    "# Посчитаем кол-во дней у каждого игрока с момента регистрации до последнего его захода в игру.\n",
    "df['day'] = (df.auth_ts - df.reg_ts).dt.days"
   ]
  },
  {
   "cell_type": "code",
   "execution_count": 41,
   "metadata": {},
   "outputs": [
    {
     "data": {
      "text/plain": [
       "0.0001"
      ]
     },
     "execution_count": 41,
     "metadata": {},
     "output_type": "execute_result"
    }
   ],
   "source": [
    "# Введем переменную Gamer, нужна будет для расчета удержания в процентах(100 деленное на кол-во уникальных игроков)\n",
    "Gamer = 100 / df.uid.nunique()\n",
    "Gamer"
   ]
  },
  {
   "cell_type": "code",
   "execution_count": 42,
   "metadata": {},
   "outputs": [
    {
     "data": {
      "text/plain": [
       "day\n",
       "0    100.0000\n",
       "1      4.0202\n",
       "2      4.2991\n",
       "3      4.9152\n",
       "4      5.6070\n",
       "Name: count, dtype: float64"
      ]
     },
     "execution_count": 42,
     "metadata": {},
     "output_type": "execute_result"
    }
   ],
   "source": [
    "# Посмотрим на удержание с первого дня.\n",
    "# В последний день видим непонятно высокое значение,\n",
    "# это потому что в расчете учитывались по несколько заходов в игру в день.\n",
    "(df.day.value_counts().sort_index() * Gamer).head()"
   ]
  },
  {
   "cell_type": "code",
   "execution_count": 43,
   "metadata": {},
   "outputs": [
    {
     "data": {
      "text/plain": [
       "day\n",
       "7715    0.0001\n",
       "7719    0.0001\n",
       "7720    0.0001\n",
       "7726    0.0001\n",
       "7728    0.0001\n",
       "Name: count, dtype: float64"
      ]
     },
     "execution_count": 43,
     "metadata": {},
     "output_type": "execute_result"
    }
   ],
   "source": [
    "(df.day.value_counts().sort_index() * Gamer).tail()"
   ]
  },
  {
   "cell_type": "code",
   "execution_count": 44,
   "metadata": {},
   "outputs": [
    {
     "data": {
      "text/html": [
       "<div>\n",
       "<style scoped>\n",
       "    .dataframe tbody tr th:only-of-type {\n",
       "        vertical-align: middle;\n",
       "    }\n",
       "\n",
       "    .dataframe tbody tr th {\n",
       "        vertical-align: top;\n",
       "    }\n",
       "\n",
       "    .dataframe thead th {\n",
       "        text-align: right;\n",
       "    }\n",
       "</style>\n",
       "<table border=\"1\" class=\"dataframe\">\n",
       "  <thead>\n",
       "    <tr style=\"text-align: right;\">\n",
       "      <th></th>\n",
       "      <th>reg_ts</th>\n",
       "      <th>uid</th>\n",
       "      <th>auth_ts</th>\n",
       "      <th>cohort</th>\n",
       "      <th>day</th>\n",
       "    </tr>\n",
       "  </thead>\n",
       "  <tbody>\n",
       "    <tr>\n",
       "      <th>0</th>\n",
       "      <td>1998-11-18 09:43:43</td>\n",
       "      <td>1</td>\n",
       "      <td>1998-11-18 09:43:43</td>\n",
       "      <td>1998-11</td>\n",
       "      <td>0</td>\n",
       "    </tr>\n",
       "    <tr>\n",
       "      <th>1</th>\n",
       "      <td>1999-07-22 22:38:09</td>\n",
       "      <td>2</td>\n",
       "      <td>1999-07-22 22:38:09</td>\n",
       "      <td>1999-07</td>\n",
       "      <td>0</td>\n",
       "    </tr>\n",
       "    <tr>\n",
       "      <th>2</th>\n",
       "      <td>1999-07-22 22:38:09</td>\n",
       "      <td>2</td>\n",
       "      <td>1999-07-25 16:46:46</td>\n",
       "      <td>1999-07</td>\n",
       "      <td>2</td>\n",
       "    </tr>\n",
       "    <tr>\n",
       "      <th>3</th>\n",
       "      <td>1999-07-22 22:38:09</td>\n",
       "      <td>2</td>\n",
       "      <td>1999-07-31 03:50:15</td>\n",
       "      <td>1999-07</td>\n",
       "      <td>8</td>\n",
       "    </tr>\n",
       "    <tr>\n",
       "      <th>4</th>\n",
       "      <td>1999-07-22 22:38:09</td>\n",
       "      <td>2</td>\n",
       "      <td>1999-08-05 17:49:39</td>\n",
       "      <td>1999-07</td>\n",
       "      <td>13</td>\n",
       "    </tr>\n",
       "    <tr>\n",
       "      <th>...</th>\n",
       "      <td>...</td>\n",
       "      <td>...</td>\n",
       "      <td>...</td>\n",
       "      <td>...</td>\n",
       "      <td>...</td>\n",
       "    </tr>\n",
       "    <tr>\n",
       "      <th>9601008</th>\n",
       "      <td>2020-09-23 15:13:54</td>\n",
       "      <td>1110618</td>\n",
       "      <td>2020-09-23 15:13:54</td>\n",
       "      <td>2020-09</td>\n",
       "      <td>0</td>\n",
       "    </tr>\n",
       "    <tr>\n",
       "      <th>9601009</th>\n",
       "      <td>2020-09-23 15:14:46</td>\n",
       "      <td>1110619</td>\n",
       "      <td>2020-09-23 15:14:46</td>\n",
       "      <td>2020-09</td>\n",
       "      <td>0</td>\n",
       "    </tr>\n",
       "    <tr>\n",
       "      <th>9601010</th>\n",
       "      <td>2020-09-23 15:15:39</td>\n",
       "      <td>1110620</td>\n",
       "      <td>2020-09-23 15:15:39</td>\n",
       "      <td>2020-09</td>\n",
       "      <td>0</td>\n",
       "    </tr>\n",
       "    <tr>\n",
       "      <th>9601011</th>\n",
       "      <td>2020-09-23 15:16:31</td>\n",
       "      <td>1110621</td>\n",
       "      <td>2020-09-23 15:16:31</td>\n",
       "      <td>2020-09</td>\n",
       "      <td>0</td>\n",
       "    </tr>\n",
       "    <tr>\n",
       "      <th>9601012</th>\n",
       "      <td>2020-09-23 15:17:24</td>\n",
       "      <td>1110622</td>\n",
       "      <td>2020-09-23 15:17:24</td>\n",
       "      <td>2020-09</td>\n",
       "      <td>0</td>\n",
       "    </tr>\n",
       "  </tbody>\n",
       "</table>\n",
       "<p>2756903 rows × 5 columns</p>\n",
       "</div>"
      ],
      "text/plain": [
       "                     reg_ts      uid             auth_ts   cohort  day\n",
       "0       1998-11-18 09:43:43        1 1998-11-18 09:43:43  1998-11    0\n",
       "1       1999-07-22 22:38:09        2 1999-07-22 22:38:09  1999-07    0\n",
       "2       1999-07-22 22:38:09        2 1999-07-25 16:46:46  1999-07    2\n",
       "3       1999-07-22 22:38:09        2 1999-07-31 03:50:15  1999-07    8\n",
       "4       1999-07-22 22:38:09        2 1999-08-05 17:49:39  1999-07   13\n",
       "...                     ...      ...                 ...      ...  ...\n",
       "9601008 2020-09-23 15:13:54  1110618 2020-09-23 15:13:54  2020-09    0\n",
       "9601009 2020-09-23 15:14:46  1110619 2020-09-23 15:14:46  2020-09    0\n",
       "9601010 2020-09-23 15:15:39  1110620 2020-09-23 15:15:39  2020-09    0\n",
       "9601011 2020-09-23 15:16:31  1110621 2020-09-23 15:16:31  2020-09    0\n",
       "9601012 2020-09-23 15:17:24  1110622 2020-09-23 15:17:24  2020-09    0\n",
       "\n",
       "[2756903 rows x 5 columns]"
      ]
     },
     "execution_count": 44,
     "metadata": {},
     "output_type": "execute_result"
    }
   ],
   "source": [
    "# Перебрав данные замечаем удержание фиксируется примерно на 55-56 дне и идет на спад без скачков.\n",
    "# Поэтому будем считать удержанными тех игроков кто провел в игре 60 и более дней и приравняем их к 60 дню.\n",
    "# Так же создам столбец с годом и месяцем регистрации пользователя.\n",
    "# Уберем так же дупликаты, в день считаем только 1 заход в игру\n",
    "dfdf = df\n",
    "dfdf.loc[dfdf.day >= 60, 'day'] = 60\n",
    "dfdf = dfdf.drop_duplicates(subset=['day', 'uid'])\n",
    "\n",
    "dfdf"
   ]
  },
  {
   "cell_type": "code",
   "execution_count": 45,
   "metadata": {},
   "outputs": [
    {
     "data": {
      "text/plain": [
       "day\n",
       "0     100.0000\n",
       "1       4.0202\n",
       "2       4.2991\n",
       "3       4.9152\n",
       "4       5.6070\n",
       "        ...   \n",
       "56      1.1494\n",
       "57      1.1351\n",
       "58      1.1336\n",
       "59      1.1339\n",
       "60      4.5337\n",
       "Name: count, Length: 61, dtype: float64"
      ]
     },
     "execution_count": 45,
     "metadata": {},
     "output_type": "execute_result"
    }
   ],
   "source": [
    "# Т.к. все игроки записались с удержание 60+ дней теперь в 60 днях фигурируют, на графиках в будущем будет скачок,\n",
    "# но будем это принимать к сведению.\n",
    "dfdf.day.value_counts().sort_index() * Gamer"
   ]
  },
  {
   "cell_type": "code",
   "execution_count": 46,
   "metadata": {},
   "outputs": [
    {
     "data": {
      "text/html": [
       "<div>\n",
       "<style scoped>\n",
       "    .dataframe tbody tr th:only-of-type {\n",
       "        vertical-align: middle;\n",
       "    }\n",
       "\n",
       "    .dataframe tbody tr th {\n",
       "        vertical-align: top;\n",
       "    }\n",
       "\n",
       "    .dataframe thead th {\n",
       "        text-align: right;\n",
       "    }\n",
       "</style>\n",
       "<table border=\"1\" class=\"dataframe\">\n",
       "  <thead>\n",
       "    <tr style=\"text-align: right;\">\n",
       "      <th></th>\n",
       "      <th>day</th>\n",
       "      <th>count</th>\n",
       "    </tr>\n",
       "  </thead>\n",
       "  <tbody>\n",
       "    <tr>\n",
       "      <th>0</th>\n",
       "      <td>0</td>\n",
       "      <td>100.0000</td>\n",
       "    </tr>\n",
       "    <tr>\n",
       "      <th>1</th>\n",
       "      <td>1</td>\n",
       "      <td>4.0202</td>\n",
       "    </tr>\n",
       "    <tr>\n",
       "      <th>2</th>\n",
       "      <td>2</td>\n",
       "      <td>4.2991</td>\n",
       "    </tr>\n",
       "    <tr>\n",
       "      <th>3</th>\n",
       "      <td>3</td>\n",
       "      <td>4.9152</td>\n",
       "    </tr>\n",
       "    <tr>\n",
       "      <th>4</th>\n",
       "      <td>4</td>\n",
       "      <td>5.6070</td>\n",
       "    </tr>\n",
       "    <tr>\n",
       "      <th>...</th>\n",
       "      <td>...</td>\n",
       "      <td>...</td>\n",
       "    </tr>\n",
       "    <tr>\n",
       "      <th>56</th>\n",
       "      <td>56</td>\n",
       "      <td>1.1494</td>\n",
       "    </tr>\n",
       "    <tr>\n",
       "      <th>57</th>\n",
       "      <td>57</td>\n",
       "      <td>1.1351</td>\n",
       "    </tr>\n",
       "    <tr>\n",
       "      <th>58</th>\n",
       "      <td>58</td>\n",
       "      <td>1.1336</td>\n",
       "    </tr>\n",
       "    <tr>\n",
       "      <th>59</th>\n",
       "      <td>59</td>\n",
       "      <td>1.1339</td>\n",
       "    </tr>\n",
       "    <tr>\n",
       "      <th>60</th>\n",
       "      <td>60</td>\n",
       "      <td>4.5337</td>\n",
       "    </tr>\n",
       "  </tbody>\n",
       "</table>\n",
       "<p>61 rows × 2 columns</p>\n",
       "</div>"
      ],
      "text/plain": [
       "    day     count\n",
       "0     0  100.0000\n",
       "1     1    4.0202\n",
       "2     2    4.2991\n",
       "3     3    4.9152\n",
       "4     4    5.6070\n",
       "..  ...       ...\n",
       "56   56    1.1494\n",
       "57   57    1.1351\n",
       "58   58    1.1336\n",
       "59   59    1.1339\n",
       "60   60    4.5337\n",
       "\n",
       "[61 rows x 2 columns]"
      ]
     },
     "execution_count": 46,
     "metadata": {},
     "output_type": "execute_result"
    }
   ],
   "source": [
    "# Запишем данные в отдельный датафрейм и построим график\n",
    "dfsns = (dfdf.day.value_counts().sort_index() * Gamer).to_frame().reset_index()\n",
    "dfsns"
   ]
  },
  {
   "cell_type": "code",
   "execution_count": 47,
   "metadata": {},
   "outputs": [
    {
     "data": {
      "text/plain": [
       "<Axes: xlabel='day', ylabel='count'>"
      ]
     },
     "execution_count": 47,
     "metadata": {},
     "output_type": "execute_result"
    },
    {
     "data": {
      "image/png": "[encoded data removed]",
      "text/plain": [
       "<Figure size 2000x700 with 1 Axes>"
      ]
     },
     "metadata": {},
     "output_type": "display_data"
    }
   ],
   "source": [
    "# Из-за того что в нулевой день у нас 100% удержание график плохо отражает скачки удержания между днями.\n",
    "# Уберем 0 день, и так понятно что там 100% и крайний день так же отсечем.\n",
    "sns.lineplot(dfsns, x='day', y='count')"
   ]
  },
  {
   "cell_type": "code",
   "execution_count": 48,
   "metadata": {},
   "outputs": [
    {
     "data": {
      "text/plain": [
       "<Axes: xlabel='day', ylabel='count'>"
      ]
     },
     "execution_count": 48,
     "metadata": {},
     "output_type": "execute_result"
    },
    {
     "data": {
      "image/png": "[encoded data removed]",
      "text/plain": [
       "<Figure size 2000x700 with 1 Axes>"
      ]
     },
     "metadata": {},
     "output_type": "display_data"
    }
   ],
   "source": [
    "# Так нагляднее и видно, что игроки проявляют интерес и возвращаются в игру в первые 10-15 дней,\n",
    "# а потом постепеннно теряют интерес.\n",
    "sns.lineplot(dfsns.iloc[1:-1], x='day', y='count')"
   ]
  },
  {
   "cell_type": "code",
   "execution_count": 49,
   "metadata": {},
   "outputs": [],
   "source": [
    "# Теперь все это перепишем в функцию\n",
    "# Добавим возможность выбирать интервал за который мы хотим посмотреть наше удержание\n",
    "def Retention(reg, auth, day_one, day_two):\n",
    "    '''Принимает 2 датафрейма содержащие время регистрации и время захода в игру и айди пользователя\n",
    "    и 2 строки с датами, началом и окончание периода за который мы хотим увидеть удержание.\n",
    "    Возващает датафрейм с данными и график удержания за выбраный промежуток времени'''\n",
    "    short_reg = reg[(reg['reg_ts'] >= day_one) & (reg['reg_ts'] <= day_two)]\n",
    "    short_auth = auth[(auth['auth_ts'] >= day_one) & (auth['auth_ts'] <= day_two)]\n",
    "    df = short_reg.merge(short_auth)\n",
    "    Gamer = 100 / df.uid.nunique()\n",
    "    df['day'] = (df.auth_ts - df.reg_ts).dt.days\n",
    "    df.loc[df.day >= 60, 'day'] = 60\n",
    "    dfdf = df.drop_duplicates(subset=['day', 'uid'])\n",
    "    dfsns = (dfdf.day.value_counts().sort_index() * Gamer).to_frame().reset_index()\n",
    "    Figura = sns.lineplot(dfsns.iloc[1:-1], x='day', y='count')\n",
    "    Figura.set(xlabel='Кол-во дней', ylabel='Удержание (%)')\n",
    "    return dfsns, Figura"
   ]
  },
  {
   "cell_type": "code",
   "execution_count": 79,
   "metadata": {},
   "outputs": [
    {
     "data": {
      "image/png": "[encoded data removed]",
      "text/plain": [
       "<Figure size 2000x700 with 1 Axes>"
      ]
     },
     "metadata": {},
     "output_type": "display_data"
    }
   ],
   "source": [
    "# Подставим мин и макс даты и сравним графики с выше полученным. Сходятся, функция работает корректно.\n",
    "Figura = Retention(reg, auth, '1998-11-18', '2020-09-23')"
   ]
  },
  {
   "cell_type": "code",
   "execution_count": 80,
   "metadata": {},
   "outputs": [
    {
     "data": {
      "text/html": [
       "<div>\n",
       "<style scoped>\n",
       "    .dataframe tbody tr th:only-of-type {\n",
       "        vertical-align: middle;\n",
       "    }\n",
       "\n",
       "    .dataframe tbody tr th {\n",
       "        vertical-align: top;\n",
       "    }\n",
       "\n",
       "    .dataframe thead th {\n",
       "        text-align: right;\n",
       "    }\n",
       "</style>\n",
       "<table border=\"1\" class=\"dataframe\">\n",
       "  <thead>\n",
       "    <tr style=\"text-align: right;\">\n",
       "      <th></th>\n",
       "      <th>day</th>\n",
       "      <th>count</th>\n",
       "    </tr>\n",
       "  </thead>\n",
       "  <tbody>\n",
       "    <tr>\n",
       "      <th>0</th>\n",
       "      <td>0</td>\n",
       "      <td>100.0000</td>\n",
       "    </tr>\n",
       "    <tr>\n",
       "      <th>1</th>\n",
       "      <td>1</td>\n",
       "      <td>4.0202</td>\n",
       "    </tr>\n",
       "    <tr>\n",
       "      <th>2</th>\n",
       "      <td>2</td>\n",
       "      <td>4.2991</td>\n",
       "    </tr>\n",
       "    <tr>\n",
       "      <th>3</th>\n",
       "      <td>3</td>\n",
       "      <td>4.9152</td>\n",
       "    </tr>\n",
       "    <tr>\n",
       "      <th>4</th>\n",
       "      <td>4</td>\n",
       "      <td>5.6070</td>\n",
       "    </tr>\n",
       "    <tr>\n",
       "      <th>...</th>\n",
       "      <td>...</td>\n",
       "      <td>...</td>\n",
       "    </tr>\n",
       "    <tr>\n",
       "      <th>56</th>\n",
       "      <td>56</td>\n",
       "      <td>1.1494</td>\n",
       "    </tr>\n",
       "    <tr>\n",
       "      <th>57</th>\n",
       "      <td>57</td>\n",
       "      <td>1.1351</td>\n",
       "    </tr>\n",
       "    <tr>\n",
       "      <th>58</th>\n",
       "      <td>58</td>\n",
       "      <td>1.1336</td>\n",
       "    </tr>\n",
       "    <tr>\n",
       "      <th>59</th>\n",
       "      <td>59</td>\n",
       "      <td>1.1339</td>\n",
       "    </tr>\n",
       "    <tr>\n",
       "      <th>60</th>\n",
       "      <td>60</td>\n",
       "      <td>4.5337</td>\n",
       "    </tr>\n",
       "  </tbody>\n",
       "</table>\n",
       "<p>61 rows × 2 columns</p>\n",
       "</div>"
      ],
      "text/plain": [
       "    day     count\n",
       "0     0  100.0000\n",
       "1     1    4.0202\n",
       "2     2    4.2991\n",
       "3     3    4.9152\n",
       "4     4    5.6070\n",
       "..  ...       ...\n",
       "56   56    1.1494\n",
       "57   57    1.1351\n",
       "58   58    1.1336\n",
       "59   59    1.1339\n",
       "60   60    4.5337\n",
       "\n",
       "[61 rows x 2 columns]"
      ]
     },
     "execution_count": 80,
     "metadata": {},
     "output_type": "execute_result"
    }
   ],
   "source": [
    "dfsns"
   ]
  },
  {
   "cell_type": "markdown",
   "metadata": {},
   "source": [
    "#### Задание 2\n",
    "Имеются результаты A/B теста, в котором двум группам пользователей предлагались различные наборы акционных предложений. Известно, что ARPU в тестовой группе выше на 5%, чем в контрольной. При этом в контрольной группе 1928 игроков из 202103 оказались платящими, а в тестовой – 1805 из 202667.\n",
    "\n",
    "Какой набор предложений можно считать лучшим? Какие метрики стоит проанализировать для принятия правильного решения и как?"
   ]
  },
  {
   "cell_type": "code",
   "execution_count": 52,
   "metadata": {},
   "outputs": [],
   "source": [
    "# Загрузим таблицу:\n",
    "# где:\n",
    "# user_id -id Пользователя\n",
    "# revenue - сумма которую потратил пользователь\n",
    "# testgroup - к какой тестовой группе относится пользователь a или b\n",
    "AB = pd.read_csv('Проект_1_Задание_2.csv', sep=\";\")"
   ]
  },
  {
   "cell_type": "code",
   "execution_count": 53,
   "metadata": {},
   "outputs": [
    {
     "data": {
      "text/html": [
       "<div>\n",
       "<style scoped>\n",
       "    .dataframe tbody tr th:only-of-type {\n",
       "        vertical-align: middle;\n",
       "    }\n",
       "\n",
       "    .dataframe tbody tr th {\n",
       "        vertical-align: top;\n",
       "    }\n",
       "\n",
       "    .dataframe thead th {\n",
       "        text-align: right;\n",
       "    }\n",
       "</style>\n",
       "<table border=\"1\" class=\"dataframe\">\n",
       "  <thead>\n",
       "    <tr style=\"text-align: right;\">\n",
       "      <th></th>\n",
       "      <th>user_id</th>\n",
       "      <th>revenue</th>\n",
       "      <th>testgroup</th>\n",
       "    </tr>\n",
       "  </thead>\n",
       "  <tbody>\n",
       "    <tr>\n",
       "      <th>0</th>\n",
       "      <td>1</td>\n",
       "      <td>0</td>\n",
       "      <td>b</td>\n",
       "    </tr>\n",
       "    <tr>\n",
       "      <th>1</th>\n",
       "      <td>2</td>\n",
       "      <td>0</td>\n",
       "      <td>a</td>\n",
       "    </tr>\n",
       "    <tr>\n",
       "      <th>2</th>\n",
       "      <td>3</td>\n",
       "      <td>0</td>\n",
       "      <td>a</td>\n",
       "    </tr>\n",
       "    <tr>\n",
       "      <th>3</th>\n",
       "      <td>4</td>\n",
       "      <td>0</td>\n",
       "      <td>b</td>\n",
       "    </tr>\n",
       "    <tr>\n",
       "      <th>4</th>\n",
       "      <td>5</td>\n",
       "      <td>0</td>\n",
       "      <td>b</td>\n",
       "    </tr>\n",
       "  </tbody>\n",
       "</table>\n",
       "</div>"
      ],
      "text/plain": [
       "   user_id  revenue testgroup\n",
       "0        1        0         b\n",
       "1        2        0         a\n",
       "2        3        0         a\n",
       "3        4        0         b\n",
       "4        5        0         b"
      ]
     },
     "execution_count": 53,
     "metadata": {},
     "output_type": "execute_result"
    }
   ],
   "source": [
    "# Посмотрим на данные\n",
    "AB.head()"
   ]
  },
  {
   "cell_type": "code",
   "execution_count": 54,
   "metadata": {},
   "outputs": [
    {
     "name": "stdout",
     "output_type": "stream",
     "text": [
      "<class 'pandas.core.frame.DataFrame'>\n",
      "RangeIndex: 404770 entries, 0 to 404769\n",
      "Data columns (total 3 columns):\n",
      " #   Column     Non-Null Count   Dtype \n",
      "---  ------     --------------   ----- \n",
      " 0   user_id    404770 non-null  int64 \n",
      " 1   revenue    404770 non-null  int64 \n",
      " 2   testgroup  404770 non-null  object\n",
      "dtypes: int64(2), object(1)\n",
      "memory usage: 9.3+ MB\n"
     ]
    }
   ],
   "source": [
    "# Посмотрим на типы данных и кол-во пропусков\n",
    "AB.info()"
   ]
  },
  {
   "cell_type": "code",
   "execution_count": 55,
   "metadata": {},
   "outputs": [
    {
     "data": {
      "text/html": [
       "<div>\n",
       "<style scoped>\n",
       "    .dataframe tbody tr th:only-of-type {\n",
       "        vertical-align: middle;\n",
       "    }\n",
       "\n",
       "    .dataframe tbody tr th {\n",
       "        vertical-align: top;\n",
       "    }\n",
       "\n",
       "    .dataframe thead th {\n",
       "        text-align: right;\n",
       "    }\n",
       "</style>\n",
       "<table border=\"1\" class=\"dataframe\">\n",
       "  <thead>\n",
       "    <tr style=\"text-align: right;\">\n",
       "      <th></th>\n",
       "      <th>user_id</th>\n",
       "      <th>revenue</th>\n",
       "    </tr>\n",
       "  </thead>\n",
       "  <tbody>\n",
       "    <tr>\n",
       "      <th>count</th>\n",
       "      <td>404770.000000</td>\n",
       "      <td>404770.000000</td>\n",
       "    </tr>\n",
       "    <tr>\n",
       "      <th>mean</th>\n",
       "      <td>202385.500000</td>\n",
       "      <td>26.083435</td>\n",
       "    </tr>\n",
       "    <tr>\n",
       "      <th>std</th>\n",
       "      <td>116847.178567</td>\n",
       "      <td>681.652928</td>\n",
       "    </tr>\n",
       "    <tr>\n",
       "      <th>min</th>\n",
       "      <td>1.000000</td>\n",
       "      <td>0.000000</td>\n",
       "    </tr>\n",
       "    <tr>\n",
       "      <th>25%</th>\n",
       "      <td>101193.250000</td>\n",
       "      <td>0.000000</td>\n",
       "    </tr>\n",
       "    <tr>\n",
       "      <th>50%</th>\n",
       "      <td>202385.500000</td>\n",
       "      <td>0.000000</td>\n",
       "    </tr>\n",
       "    <tr>\n",
       "      <th>75%</th>\n",
       "      <td>303577.750000</td>\n",
       "      <td>0.000000</td>\n",
       "    </tr>\n",
       "    <tr>\n",
       "      <th>max</th>\n",
       "      <td>404770.000000</td>\n",
       "      <td>37433.000000</td>\n",
       "    </tr>\n",
       "  </tbody>\n",
       "</table>\n",
       "</div>"
      ],
      "text/plain": [
       "             user_id        revenue\n",
       "count  404770.000000  404770.000000\n",
       "mean   202385.500000      26.083435\n",
       "std    116847.178567     681.652928\n",
       "min         1.000000       0.000000\n",
       "25%    101193.250000       0.000000\n",
       "50%    202385.500000       0.000000\n",
       "75%    303577.750000       0.000000\n",
       "max    404770.000000   37433.000000"
      ]
     },
     "execution_count": 55,
     "metadata": {},
     "output_type": "execute_result"
    }
   ],
   "source": [
    "AB.describe()"
   ]
  },
  {
   "cell_type": "code",
   "execution_count": 56,
   "metadata": {},
   "outputs": [
    {
     "data": {
      "text/plain": [
       "404770"
      ]
     },
     "execution_count": 56,
     "metadata": {},
     "output_type": "execute_result"
    }
   ],
   "source": [
    "AB.user_id.nunique()"
   ]
  },
  {
   "cell_type": "code",
   "execution_count": 57,
   "metadata": {},
   "outputs": [
    {
     "data": {
      "text/html": [
       "<div>\n",
       "<style scoped>\n",
       "    .dataframe tbody tr th:only-of-type {\n",
       "        vertical-align: middle;\n",
       "    }\n",
       "\n",
       "    .dataframe tbody tr th {\n",
       "        vertical-align: top;\n",
       "    }\n",
       "\n",
       "    .dataframe thead tr th {\n",
       "        text-align: left;\n",
       "    }\n",
       "\n",
       "    .dataframe thead tr:last-of-type th {\n",
       "        text-align: right;\n",
       "    }\n",
       "</style>\n",
       "<table border=\"1\" class=\"dataframe\">\n",
       "  <thead>\n",
       "    <tr>\n",
       "      <th></th>\n",
       "      <th colspan=\"8\" halign=\"left\">user_id</th>\n",
       "      <th colspan=\"8\" halign=\"left\">revenue</th>\n",
       "    </tr>\n",
       "    <tr>\n",
       "      <th></th>\n",
       "      <th>count</th>\n",
       "      <th>mean</th>\n",
       "      <th>std</th>\n",
       "      <th>min</th>\n",
       "      <th>25%</th>\n",
       "      <th>50%</th>\n",
       "      <th>75%</th>\n",
       "      <th>max</th>\n",
       "      <th>count</th>\n",
       "      <th>mean</th>\n",
       "      <th>std</th>\n",
       "      <th>min</th>\n",
       "      <th>25%</th>\n",
       "      <th>50%</th>\n",
       "      <th>75%</th>\n",
       "      <th>max</th>\n",
       "    </tr>\n",
       "    <tr>\n",
       "      <th>testgroup</th>\n",
       "      <th></th>\n",
       "      <th></th>\n",
       "      <th></th>\n",
       "      <th></th>\n",
       "      <th></th>\n",
       "      <th></th>\n",
       "      <th></th>\n",
       "      <th></th>\n",
       "      <th></th>\n",
       "      <th></th>\n",
       "      <th></th>\n",
       "      <th></th>\n",
       "      <th></th>\n",
       "      <th></th>\n",
       "      <th></th>\n",
       "      <th></th>\n",
       "    </tr>\n",
       "  </thead>\n",
       "  <tbody>\n",
       "    <tr>\n",
       "      <th>a</th>\n",
       "      <td>202103.0</td>\n",
       "      <td>202555.909843</td>\n",
       "      <td>116802.329266</td>\n",
       "      <td>2.0</td>\n",
       "      <td>101502.5</td>\n",
       "      <td>202988.0</td>\n",
       "      <td>303559.0</td>\n",
       "      <td>404769.0</td>\n",
       "      <td>202103.0</td>\n",
       "      <td>25.413720</td>\n",
       "      <td>920.768137</td>\n",
       "      <td>0.0</td>\n",
       "      <td>0.0</td>\n",
       "      <td>0.0</td>\n",
       "      <td>0.0</td>\n",
       "      <td>37433.0</td>\n",
       "    </tr>\n",
       "    <tr>\n",
       "      <th>b</th>\n",
       "      <td>202667.0</td>\n",
       "      <td>202215.564389</td>\n",
       "      <td>116891.926690</td>\n",
       "      <td>1.0</td>\n",
       "      <td>100855.5</td>\n",
       "      <td>201821.0</td>\n",
       "      <td>303602.5</td>\n",
       "      <td>404770.0</td>\n",
       "      <td>202667.0</td>\n",
       "      <td>26.751287</td>\n",
       "      <td>287.324162</td>\n",
       "      <td>0.0</td>\n",
       "      <td>0.0</td>\n",
       "      <td>0.0</td>\n",
       "      <td>0.0</td>\n",
       "      <td>4000.0</td>\n",
       "    </tr>\n",
       "  </tbody>\n",
       "</table>\n",
       "</div>"
      ],
      "text/plain": [
       "            user_id                                                         \\\n",
       "              count           mean            std  min       25%       50%   \n",
       "testgroup                                                                    \n",
       "a          202103.0  202555.909843  116802.329266  2.0  101502.5  202988.0   \n",
       "b          202667.0  202215.564389  116891.926690  1.0  100855.5  201821.0   \n",
       "\n",
       "                                revenue                                        \\\n",
       "                75%       max     count       mean         std  min  25%  50%   \n",
       "testgroup                                                                       \n",
       "a          303559.0  404769.0  202103.0  25.413720  920.768137  0.0  0.0  0.0   \n",
       "b          303602.5  404770.0  202667.0  26.751287  287.324162  0.0  0.0  0.0   \n",
       "\n",
       "                         \n",
       "           75%      max  \n",
       "testgroup                \n",
       "a          0.0  37433.0  \n",
       "b          0.0   4000.0  "
      ]
     },
     "execution_count": 57,
     "metadata": {},
     "output_type": "execute_result"
    }
   ],
   "source": [
    "# Средняя выручка на пользователя в каждой группе равна 25 y.e +-1 y.e, изучим детальнее дальше.\n",
    "# (75% пользователей не совершали никаких операций)\n",
    "AB.groupby('testgroup').describe()"
   ]
  },
  {
   "cell_type": "code",
   "execution_count": 58,
   "metadata": {},
   "outputs": [
    {
     "data": {
      "text/html": [
       "<div>\n",
       "<style scoped>\n",
       "    .dataframe tbody tr th:only-of-type {\n",
       "        vertical-align: middle;\n",
       "    }\n",
       "\n",
       "    .dataframe tbody tr th {\n",
       "        vertical-align: top;\n",
       "    }\n",
       "\n",
       "    .dataframe thead tr th {\n",
       "        text-align: left;\n",
       "    }\n",
       "\n",
       "    .dataframe thead tr:last-of-type th {\n",
       "        text-align: right;\n",
       "    }\n",
       "</style>\n",
       "<table border=\"1\" class=\"dataframe\">\n",
       "  <thead>\n",
       "    <tr>\n",
       "      <th></th>\n",
       "      <th colspan=\"8\" halign=\"left\">user_id</th>\n",
       "      <th colspan=\"8\" halign=\"left\">revenue</th>\n",
       "    </tr>\n",
       "    <tr>\n",
       "      <th></th>\n",
       "      <th>count</th>\n",
       "      <th>mean</th>\n",
       "      <th>std</th>\n",
       "      <th>min</th>\n",
       "      <th>25%</th>\n",
       "      <th>50%</th>\n",
       "      <th>75%</th>\n",
       "      <th>max</th>\n",
       "      <th>count</th>\n",
       "      <th>mean</th>\n",
       "      <th>std</th>\n",
       "      <th>min</th>\n",
       "      <th>25%</th>\n",
       "      <th>50%</th>\n",
       "      <th>75%</th>\n",
       "      <th>max</th>\n",
       "    </tr>\n",
       "    <tr>\n",
       "      <th>testgroup</th>\n",
       "      <th></th>\n",
       "      <th></th>\n",
       "      <th></th>\n",
       "      <th></th>\n",
       "      <th></th>\n",
       "      <th></th>\n",
       "      <th></th>\n",
       "      <th></th>\n",
       "      <th></th>\n",
       "      <th></th>\n",
       "      <th></th>\n",
       "      <th></th>\n",
       "      <th></th>\n",
       "      <th></th>\n",
       "      <th></th>\n",
       "      <th></th>\n",
       "    </tr>\n",
       "  </thead>\n",
       "  <tbody>\n",
       "    <tr>\n",
       "      <th>a</th>\n",
       "      <td>1928.0</td>\n",
       "      <td>200152.677905</td>\n",
       "      <td>116596.504905</td>\n",
       "      <td>73.0</td>\n",
       "      <td>99323.0</td>\n",
       "      <td>199854.5</td>\n",
       "      <td>299664.25</td>\n",
       "      <td>404768.0</td>\n",
       "      <td>1928.0</td>\n",
       "      <td>2663.998444</td>\n",
       "      <td>9049.039763</td>\n",
       "      <td>200.0</td>\n",
       "      <td>257.0</td>\n",
       "      <td>311.0</td>\n",
       "      <td>361.0</td>\n",
       "      <td>37433.0</td>\n",
       "    </tr>\n",
       "    <tr>\n",
       "      <th>b</th>\n",
       "      <td>1805.0</td>\n",
       "      <td>205834.548476</td>\n",
       "      <td>116400.045485</td>\n",
       "      <td>161.0</td>\n",
       "      <td>106815.0</td>\n",
       "      <td>206651.0</td>\n",
       "      <td>304907.00</td>\n",
       "      <td>404526.0</td>\n",
       "      <td>1805.0</td>\n",
       "      <td>3003.658172</td>\n",
       "      <td>572.619709</td>\n",
       "      <td>2000.0</td>\n",
       "      <td>2513.0</td>\n",
       "      <td>3022.0</td>\n",
       "      <td>3478.0</td>\n",
       "      <td>4000.0</td>\n",
       "    </tr>\n",
       "  </tbody>\n",
       "</table>\n",
       "</div>"
      ],
      "text/plain": [
       "          user_id                                                           \\\n",
       "            count           mean            std    min       25%       50%   \n",
       "testgroup                                                                    \n",
       "a          1928.0  200152.677905  116596.504905   73.0   99323.0  199854.5   \n",
       "b          1805.0  205834.548476  116400.045485  161.0  106815.0  206651.0   \n",
       "\n",
       "                               revenue                                    \\\n",
       "                 75%       max   count         mean          std     min   \n",
       "testgroup                                                                  \n",
       "a          299664.25  404768.0  1928.0  2663.998444  9049.039763   200.0   \n",
       "b          304907.00  404526.0  1805.0  3003.658172   572.619709  2000.0   \n",
       "\n",
       "                                            \n",
       "              25%     50%     75%      max  \n",
       "testgroup                                   \n",
       "a           257.0   311.0   361.0  37433.0  \n",
       "b          2513.0  3022.0  3478.0   4000.0  "
      ]
     },
     "execution_count": 58,
     "metadata": {},
     "output_type": "execute_result"
    }
   ],
   "source": [
    "# Сравним пользователей в группах, которые приносили выручку.(это 0.9% пользователей от общего числа)\n",
    "# В тестовой группе их меньше, но выше минимальная выручка и разброс не такой большой как в контрольной группе.\n",
    "AB[AB.revenue != 0].groupby('testgroup').describe()"
   ]
  },
  {
   "cell_type": "code",
   "execution_count": 59,
   "metadata": {},
   "outputs": [
    {
     "data": {
      "text/html": [
       "<div>\n",
       "<style scoped>\n",
       "    .dataframe tbody tr th:only-of-type {\n",
       "        vertical-align: middle;\n",
       "    }\n",
       "\n",
       "    .dataframe tbody tr th {\n",
       "        vertical-align: top;\n",
       "    }\n",
       "\n",
       "    .dataframe thead th {\n",
       "        text-align: right;\n",
       "    }\n",
       "</style>\n",
       "<table border=\"1\" class=\"dataframe\">\n",
       "  <thead>\n",
       "    <tr style=\"text-align: right;\">\n",
       "      <th></th>\n",
       "      <th>revenue</th>\n",
       "      <th>user_id</th>\n",
       "    </tr>\n",
       "    <tr>\n",
       "      <th>testgroup</th>\n",
       "      <th></th>\n",
       "      <th></th>\n",
       "    </tr>\n",
       "  </thead>\n",
       "  <tbody>\n",
       "    <tr>\n",
       "      <th>a</th>\n",
       "      <td>5136189</td>\n",
       "      <td>202103</td>\n",
       "    </tr>\n",
       "    <tr>\n",
       "      <th>b</th>\n",
       "      <td>5421603</td>\n",
       "      <td>202667</td>\n",
       "    </tr>\n",
       "  </tbody>\n",
       "</table>\n",
       "</div>"
      ],
      "text/plain": [
       "           revenue  user_id\n",
       "testgroup                  \n",
       "a          5136189   202103\n",
       "b          5421603   202667"
      ]
     },
     "execution_count": 59,
     "metadata": {},
     "output_type": "execute_result"
    }
   ],
   "source": [
    "# Посмотрим на кол-во пользователей и сумму затрат в каждой группе\n",
    "# и определим какая является тестовая, а какая контрольная.\n",
    "# Из условия мы знаем что в контрольной группе 202103 пользователей, а в тестовой 202667, получаем:\n",
    "# testgroup: a - контрольная группа, testgroup b - тестовая \n",
    "AB.groupby('testgroup').agg({'revenue': 'sum', 'user_id': 'count'})"
   ]
  },
  {
   "cell_type": "code",
   "execution_count": 60,
   "metadata": {},
   "outputs": [],
   "source": [
    "# Определим 3 метрики для анализа нашего АБ теста.\n",
    "# 1. ARPU\n",
    "# 2. ARPPU\n",
    "# 3. Конверсия в покупку"
   ]
  },
  {
   "cell_type": "code",
   "execution_count": 61,
   "metadata": {},
   "outputs": [
    {
     "data": {
      "text/html": [
       "<div>\n",
       "<style scoped>\n",
       "    .dataframe tbody tr th:only-of-type {\n",
       "        vertical-align: middle;\n",
       "    }\n",
       "\n",
       "    .dataframe tbody tr th {\n",
       "        vertical-align: top;\n",
       "    }\n",
       "\n",
       "    .dataframe thead th {\n",
       "        text-align: right;\n",
       "    }\n",
       "</style>\n",
       "<table border=\"1\" class=\"dataframe\">\n",
       "  <thead>\n",
       "    <tr style=\"text-align: right;\">\n",
       "      <th></th>\n",
       "      <th>revenue</th>\n",
       "    </tr>\n",
       "    <tr>\n",
       "      <th>testgroup</th>\n",
       "      <th></th>\n",
       "    </tr>\n",
       "  </thead>\n",
       "  <tbody>\n",
       "    <tr>\n",
       "      <th>a</th>\n",
       "      <td>25.413720</td>\n",
       "    </tr>\n",
       "    <tr>\n",
       "      <th>b</th>\n",
       "      <td>26.751287</td>\n",
       "    </tr>\n",
       "  </tbody>\n",
       "</table>\n",
       "</div>"
      ],
      "text/plain": [
       "             revenue\n",
       "testgroup           \n",
       "a          25.413720\n",
       "b          26.751287"
      ]
     },
     "execution_count": 61,
     "metadata": {},
     "output_type": "execute_result"
    }
   ],
   "source": [
    "# 1. ARPU достаточно низкий в обеих группах и на мой взгляд и не имеет особых различий\n",
    "AB.groupby('testgroup').agg({'revenue': 'mean'})"
   ]
  },
  {
   "cell_type": "code",
   "execution_count": 62,
   "metadata": {},
   "outputs": [
    {
     "data": {
      "text/html": [
       "<div>\n",
       "<style scoped>\n",
       "    .dataframe tbody tr th:only-of-type {\n",
       "        vertical-align: middle;\n",
       "    }\n",
       "\n",
       "    .dataframe tbody tr th {\n",
       "        vertical-align: top;\n",
       "    }\n",
       "\n",
       "    .dataframe thead th {\n",
       "        text-align: right;\n",
       "    }\n",
       "</style>\n",
       "<table border=\"1\" class=\"dataframe\">\n",
       "  <thead>\n",
       "    <tr style=\"text-align: right;\">\n",
       "      <th></th>\n",
       "      <th>W</th>\n",
       "      <th>pval</th>\n",
       "      <th>normal</th>\n",
       "    </tr>\n",
       "  </thead>\n",
       "  <tbody>\n",
       "    <tr>\n",
       "      <th>revenue</th>\n",
       "      <td>585152.731273</td>\n",
       "      <td>0.0</td>\n",
       "      <td>False</td>\n",
       "    </tr>\n",
       "  </tbody>\n",
       "</table>\n",
       "</div>"
      ],
      "text/plain": [
       "                     W  pval  normal\n",
       "revenue  585152.731273   0.0   False"
      ]
     },
     "execution_count": 62,
     "metadata": {},
     "output_type": "execute_result"
    }
   ],
   "source": [
    "# Проведем тест на нормальность групп a и b.\n",
    "pg.normality(AB[AB.testgroup == 'a'].revenue, method=\"normaltest\")"
   ]
  },
  {
   "cell_type": "code",
   "execution_count": 63,
   "metadata": {},
   "outputs": [
    {
     "data": {
      "text/html": [
       "<div>\n",
       "<style scoped>\n",
       "    .dataframe tbody tr th:only-of-type {\n",
       "        vertical-align: middle;\n",
       "    }\n",
       "\n",
       "    .dataframe tbody tr th {\n",
       "        vertical-align: top;\n",
       "    }\n",
       "\n",
       "    .dataframe thead th {\n",
       "        text-align: right;\n",
       "    }\n",
       "</style>\n",
       "<table border=\"1\" class=\"dataframe\">\n",
       "  <thead>\n",
       "    <tr style=\"text-align: right;\">\n",
       "      <th></th>\n",
       "      <th>W</th>\n",
       "      <th>pval</th>\n",
       "      <th>normal</th>\n",
       "    </tr>\n",
       "  </thead>\n",
       "  <tbody>\n",
       "    <tr>\n",
       "      <th>revenue</th>\n",
       "      <td>326622.395409</td>\n",
       "      <td>0.0</td>\n",
       "      <td>False</td>\n",
       "    </tr>\n",
       "  </tbody>\n",
       "</table>\n",
       "</div>"
      ],
      "text/plain": [
       "                     W  pval  normal\n",
       "revenue  326622.395409   0.0   False"
      ]
     },
     "execution_count": 63,
     "metadata": {},
     "output_type": "execute_result"
    }
   ],
   "source": [
    "pg.normality(AB[AB.testgroup == 'b'].revenue, method=\"normaltest\")"
   ]
  },
  {
   "cell_type": "code",
   "execution_count": 64,
   "metadata": {},
   "outputs": [
    {
     "data": {
      "text/plain": [
       "(847813.9618075917, 82555.17387895365)"
      ]
     },
     "execution_count": 64,
     "metadata": {},
     "output_type": "execute_result"
    }
   ],
   "source": [
    "# Посчитаем дисперсию\n",
    "variance(AB[AB.testgroup == 'a'].revenue), variance(AB[AB.testgroup == 'b'].revenue)"
   ]
  },
  {
   "cell_type": "code",
   "execution_count": 65,
   "metadata": {},
   "outputs": [
    {
     "data": {
      "text/html": [
       "<div>\n",
       "<style scoped>\n",
       "    .dataframe tbody tr th:only-of-type {\n",
       "        vertical-align: middle;\n",
       "    }\n",
       "\n",
       "    .dataframe tbody tr th {\n",
       "        vertical-align: top;\n",
       "    }\n",
       "\n",
       "    .dataframe thead th {\n",
       "        text-align: right;\n",
       "    }\n",
       "</style>\n",
       "<table border=\"1\" class=\"dataframe\">\n",
       "  <thead>\n",
       "    <tr style=\"text-align: right;\">\n",
       "      <th></th>\n",
       "      <th>W</th>\n",
       "      <th>pval</th>\n",
       "      <th>equal_var</th>\n",
       "    </tr>\n",
       "  </thead>\n",
       "  <tbody>\n",
       "    <tr>\n",
       "      <th>levene</th>\n",
       "      <td>0.389629</td>\n",
       "      <td>0.532495</td>\n",
       "      <td>True</td>\n",
       "    </tr>\n",
       "  </tbody>\n",
       "</table>\n",
       "</div>"
      ],
      "text/plain": [
       "               W      pval  equal_var\n",
       "levene  0.389629  0.532495       True"
      ]
     },
     "execution_count": 65,
     "metadata": {},
     "output_type": "execute_result"
    }
   ],
   "source": [
    "# Т.к. данные распределены не нормально используем Levene's Test на сравнение однородности дисперсий\n",
    "pg.homoscedasticity(data=AB, dv='revenue', group='testgroup') "
   ]
  },
  {
   "cell_type": "code",
   "execution_count": 66,
   "metadata": {},
   "outputs": [
    {
     "data": {
      "text/plain": [
       "TtestResult(statistic=-0.6234876562792212, pvalue=0.5329647014130866, df=240991.13078245192)"
      ]
     },
     "execution_count": 66,
     "metadata": {},
     "output_type": "execute_result"
    }
   ],
   "source": [
    "# У нас не нормальное распределние в обеих группах, но дисперсии однородны,\n",
    "# поэтому для сравнения ARPU в группах используем Т-тест Стьюдента для проверки равенства средних значений в двух выборках.\n",
    "# H0 - у пользователей из групп a и b ARPU не различаются. \n",
    "# H1 у пользователей из групп a и b в ARPU различаются.\n",
    "# pvalue 0.05\n",
    "stats.ttest_ind(AB[AB.testgroup == 'a'].revenue, AB[AB.testgroup == 'b'].revenue, equal_var=False)\n",
    "# Т.к. pvalue=0.5329647014130866 > 0.05 принимаем H0. \n",
    "# У нас не достаточно доказательств сказать, что у пользователей из групп a и b ARPU различаются."
   ]
  },
  {
   "cell_type": "code",
   "execution_count": 67,
   "metadata": {},
   "outputs": [
    {
     "data": {
      "text/html": [
       "<div>\n",
       "<style scoped>\n",
       "    .dataframe tbody tr th:only-of-type {\n",
       "        vertical-align: middle;\n",
       "    }\n",
       "\n",
       "    .dataframe tbody tr th {\n",
       "        vertical-align: top;\n",
       "    }\n",
       "\n",
       "    .dataframe thead th {\n",
       "        text-align: right;\n",
       "    }\n",
       "</style>\n",
       "<table border=\"1\" class=\"dataframe\">\n",
       "  <thead>\n",
       "    <tr style=\"text-align: right;\">\n",
       "      <th></th>\n",
       "      <th>revenue</th>\n",
       "    </tr>\n",
       "    <tr>\n",
       "      <th>testgroup</th>\n",
       "      <th></th>\n",
       "    </tr>\n",
       "  </thead>\n",
       "  <tbody>\n",
       "    <tr>\n",
       "      <th>a</th>\n",
       "      <td>5136189</td>\n",
       "    </tr>\n",
       "    <tr>\n",
       "      <th>b</th>\n",
       "      <td>5421603</td>\n",
       "    </tr>\n",
       "  </tbody>\n",
       "</table>\n",
       "</div>"
      ],
      "text/plain": [
       "           revenue\n",
       "testgroup         \n",
       "a          5136189\n",
       "b          5421603"
      ]
     },
     "execution_count": 67,
     "metadata": {},
     "output_type": "execute_result"
    }
   ],
   "source": [
    "# 2. ARPPU\n",
    "AB.groupby('testgroup').agg({'revenue': 'sum'})"
   ]
  },
  {
   "cell_type": "code",
   "execution_count": 68,
   "metadata": {},
   "outputs": [
    {
     "data": {
      "text/plain": [
       "(81885120.63985227, 327893.33153656696)"
      ]
     },
     "execution_count": 68,
     "metadata": {},
     "output_type": "execute_result"
    }
   ],
   "source": [
    "# Посмотим на дисперсию.\n",
    "variance(AB.loc[(AB.testgroup == 'a') & (AB.revenue != 0)].revenue), \\\n",
    "variance(AB.loc[(AB.testgroup == 'b') & (AB.revenue != 0)].revenue)"
   ]
  },
  {
   "cell_type": "code",
   "execution_count": 69,
   "metadata": {},
   "outputs": [
    {
     "name": "stdout",
     "output_type": "stream",
     "text": [
      "Statistic: 80.85567421779912\n",
      "p-value: 3.779689868667878e-19\n",
      "Дисперсии отличаются статистически значимо\n"
     ]
    }
   ],
   "source": [
    "# Посмотрев на дисперсию, видим что она не однородная. Поэтому в данном случае лучше подойдет Welch’s t-test.\n",
    "statistic, p_value = levene(AB.loc[(AB.testgroup == 'a') & (AB.revenue != 0)].revenue,\n",
    "                            AB.loc[(AB.testgroup == 'b') & (AB.revenue != 0)].revenue)\n",
    "print(\"Statistic:\", statistic)\n",
    "print(\"p-value:\", p_value)\n",
    "if p_value > 0.05:\n",
    "    print(\"Дисперсии не отличаются статистически значимо\")\n",
    "else:\n",
    "    print(\"Дисперсии отличаются статистически значимо\")"
   ]
  },
  {
   "cell_type": "code",
   "execution_count": 70,
   "metadata": {},
   "outputs": [
    {
     "data": {
      "text/html": [
       "<div>\n",
       "<style scoped>\n",
       "    .dataframe tbody tr th:only-of-type {\n",
       "        vertical-align: middle;\n",
       "    }\n",
       "\n",
       "    .dataframe tbody tr th {\n",
       "        vertical-align: top;\n",
       "    }\n",
       "\n",
       "    .dataframe thead th {\n",
       "        text-align: right;\n",
       "    }\n",
       "</style>\n",
       "<table border=\"1\" class=\"dataframe\">\n",
       "  <thead>\n",
       "    <tr style=\"text-align: right;\">\n",
       "      <th></th>\n",
       "      <th>user_id</th>\n",
       "      <th>revenue</th>\n",
       "      <th>testgroup</th>\n",
       "    </tr>\n",
       "  </thead>\n",
       "  <tbody>\n",
       "    <tr>\n",
       "      <th>72</th>\n",
       "      <td>73</td>\n",
       "      <td>351</td>\n",
       "      <td>a</td>\n",
       "    </tr>\n",
       "    <tr>\n",
       "      <th>160</th>\n",
       "      <td>161</td>\n",
       "      <td>3797</td>\n",
       "      <td>b</td>\n",
       "    </tr>\n",
       "    <tr>\n",
       "      <th>341</th>\n",
       "      <td>342</td>\n",
       "      <td>290</td>\n",
       "      <td>a</td>\n",
       "    </tr>\n",
       "    <tr>\n",
       "      <th>377</th>\n",
       "      <td>378</td>\n",
       "      <td>3768</td>\n",
       "      <td>b</td>\n",
       "    </tr>\n",
       "    <tr>\n",
       "      <th>385</th>\n",
       "      <td>386</td>\n",
       "      <td>250</td>\n",
       "      <td>a</td>\n",
       "    </tr>\n",
       "    <tr>\n",
       "      <th>...</th>\n",
       "      <td>...</td>\n",
       "      <td>...</td>\n",
       "      <td>...</td>\n",
       "    </tr>\n",
       "    <tr>\n",
       "      <th>404315</th>\n",
       "      <td>404316</td>\n",
       "      <td>262</td>\n",
       "      <td>a</td>\n",
       "    </tr>\n",
       "    <tr>\n",
       "      <th>404525</th>\n",
       "      <td>404526</td>\n",
       "      <td>3120</td>\n",
       "      <td>b</td>\n",
       "    </tr>\n",
       "    <tr>\n",
       "      <th>404543</th>\n",
       "      <td>404544</td>\n",
       "      <td>369</td>\n",
       "      <td>a</td>\n",
       "    </tr>\n",
       "    <tr>\n",
       "      <th>404602</th>\n",
       "      <td>404603</td>\n",
       "      <td>251</td>\n",
       "      <td>a</td>\n",
       "    </tr>\n",
       "    <tr>\n",
       "      <th>404767</th>\n",
       "      <td>404768</td>\n",
       "      <td>231</td>\n",
       "      <td>a</td>\n",
       "    </tr>\n",
       "  </tbody>\n",
       "</table>\n",
       "<p>3733 rows × 3 columns</p>\n",
       "</div>"
      ],
      "text/plain": [
       "        user_id  revenue testgroup\n",
       "72           73      351         a\n",
       "160         161     3797         b\n",
       "341         342      290         a\n",
       "377         378     3768         b\n",
       "385         386      250         a\n",
       "...         ...      ...       ...\n",
       "404315   404316      262         a\n",
       "404525   404526     3120         b\n",
       "404543   404544      369         a\n",
       "404602   404603      251         a\n",
       "404767   404768      231         a\n",
       "\n",
       "[3733 rows x 3 columns]"
      ]
     },
     "execution_count": 70,
     "metadata": {},
     "output_type": "execute_result"
    }
   ],
   "source": [
    "ABAB = AB[AB.revenue != 0]\n",
    "ABAB"
   ]
  },
  {
   "cell_type": "code",
   "execution_count": 71,
   "metadata": {},
   "outputs": [
    {
     "data": {
      "text/plain": [
       "<Axes: xlabel='revenue', ylabel='Count'>"
      ]
     },
     "execution_count": 71,
     "metadata": {},
     "output_type": "execute_result"
    },
    {
     "data": {
      "image/png": "[encoded data removed]",
      "text/plain": [
       "<Figure size 2000x700 with 1 Axes>"
      ]
     },
     "metadata": {},
     "output_type": "display_data"
    }
   ],
   "source": [
    "# Наглядно посмотрим на группы а и b по выручке\n",
    "# в группе a большая часть пользователей покупали акции за небольшу сумму и лишь небольшая часть свыше 35000.\n",
    "# А в группе b выручка не так разбросана.\n",
    "sns.histplot(ABAB[['testgroup', 'revenue']], x=\"revenue\", hue=\"testgroup\")"
   ]
  },
  {
   "cell_type": "code",
   "execution_count": 72,
   "metadata": {},
   "outputs": [
    {
     "data": {
      "text/plain": [
       "TtestResult(statistic=-1.644630266430084, pvalue=0.10020780398916015, df=1943.4815217434643)"
      ]
     },
     "execution_count": 72,
     "metadata": {},
     "output_type": "execute_result"
    }
   ],
   "source": [
    "# Используем Welch’s t-test.\n",
    "# H0 - у пользователей из групп a и b ARPPU не различаются. \n",
    "# H1 у пользователей из групп a и b в ARPPU различаются.\n",
    "# pvalue 0.05\n",
    "stats.ttest_ind(AB.loc[(AB.testgroup == 'a') & (AB.revenue != 0)].revenue,\n",
    "                AB.loc[(AB.testgroup == 'b') & (AB.revenue != 0)].revenue, equal_var=False)\n",
    "# Т.к. pvalue=0.10020780398916015 > 0.05 принимаем H0. \n",
    "# У нас не достаточно доказательств сказать, что у пользователей из групп a и b ARPPU различаются."
   ]
  },
  {
   "cell_type": "code",
   "execution_count": 73,
   "metadata": {},
   "outputs": [
    {
     "data": {
      "text/html": [
       "<div>\n",
       "<style scoped>\n",
       "    .dataframe tbody tr th:only-of-type {\n",
       "        vertical-align: middle;\n",
       "    }\n",
       "\n",
       "    .dataframe tbody tr th {\n",
       "        vertical-align: top;\n",
       "    }\n",
       "\n",
       "    .dataframe thead th {\n",
       "        text-align: right;\n",
       "    }\n",
       "</style>\n",
       "<table border=\"1\" class=\"dataframe\">\n",
       "  <thead>\n",
       "    <tr style=\"text-align: right;\">\n",
       "      <th></th>\n",
       "      <th>user_id</th>\n",
       "      <th>revenue</th>\n",
       "      <th>testgroup</th>\n",
       "      <th>Buy</th>\n",
       "    </tr>\n",
       "  </thead>\n",
       "  <tbody>\n",
       "    <tr>\n",
       "      <th>0</th>\n",
       "      <td>1</td>\n",
       "      <td>0</td>\n",
       "      <td>b</td>\n",
       "      <td>0</td>\n",
       "    </tr>\n",
       "    <tr>\n",
       "      <th>1</th>\n",
       "      <td>2</td>\n",
       "      <td>0</td>\n",
       "      <td>a</td>\n",
       "      <td>0</td>\n",
       "    </tr>\n",
       "    <tr>\n",
       "      <th>2</th>\n",
       "      <td>3</td>\n",
       "      <td>0</td>\n",
       "      <td>a</td>\n",
       "      <td>0</td>\n",
       "    </tr>\n",
       "    <tr>\n",
       "      <th>3</th>\n",
       "      <td>4</td>\n",
       "      <td>0</td>\n",
       "      <td>b</td>\n",
       "      <td>0</td>\n",
       "    </tr>\n",
       "    <tr>\n",
       "      <th>4</th>\n",
       "      <td>5</td>\n",
       "      <td>0</td>\n",
       "      <td>b</td>\n",
       "      <td>0</td>\n",
       "    </tr>\n",
       "    <tr>\n",
       "      <th>...</th>\n",
       "      <td>...</td>\n",
       "      <td>...</td>\n",
       "      <td>...</td>\n",
       "      <td>...</td>\n",
       "    </tr>\n",
       "    <tr>\n",
       "      <th>404765</th>\n",
       "      <td>404766</td>\n",
       "      <td>0</td>\n",
       "      <td>a</td>\n",
       "      <td>0</td>\n",
       "    </tr>\n",
       "    <tr>\n",
       "      <th>404766</th>\n",
       "      <td>404767</td>\n",
       "      <td>0</td>\n",
       "      <td>b</td>\n",
       "      <td>0</td>\n",
       "    </tr>\n",
       "    <tr>\n",
       "      <th>404767</th>\n",
       "      <td>404768</td>\n",
       "      <td>231</td>\n",
       "      <td>a</td>\n",
       "      <td>1</td>\n",
       "    </tr>\n",
       "    <tr>\n",
       "      <th>404768</th>\n",
       "      <td>404769</td>\n",
       "      <td>0</td>\n",
       "      <td>a</td>\n",
       "      <td>0</td>\n",
       "    </tr>\n",
       "    <tr>\n",
       "      <th>404769</th>\n",
       "      <td>404770</td>\n",
       "      <td>0</td>\n",
       "      <td>b</td>\n",
       "      <td>0</td>\n",
       "    </tr>\n",
       "  </tbody>\n",
       "</table>\n",
       "<p>404770 rows × 4 columns</p>\n",
       "</div>"
      ],
      "text/plain": [
       "        user_id  revenue testgroup  Buy\n",
       "0             1        0         b    0\n",
       "1             2        0         a    0\n",
       "2             3        0         a    0\n",
       "3             4        0         b    0\n",
       "4             5        0         b    0\n",
       "...         ...      ...       ...  ...\n",
       "404765   404766        0         a    0\n",
       "404766   404767        0         b    0\n",
       "404767   404768      231         a    1\n",
       "404768   404769        0         a    0\n",
       "404769   404770        0         b    0\n",
       "\n",
       "[404770 rows x 4 columns]"
      ]
     },
     "execution_count": 73,
     "metadata": {},
     "output_type": "execute_result"
    }
   ],
   "source": [
    "# 3. Конверсия в покупку\n",
    "# Посчитаем конверсию в покупку, для этого создадим столбец в котором будет указано совершал покупку или нет.\n",
    "AB['Buy'] = (AB['revenue'] > 0).astype(int)\n",
    "AB"
   ]
  },
  {
   "cell_type": "code",
   "execution_count": 74,
   "metadata": {},
   "outputs": [
    {
     "data": {
      "text/plain": [
       "0.9539690157988748"
      ]
     },
     "execution_count": 74,
     "metadata": {},
     "output_type": "execute_result"
    }
   ],
   "source": [
    "conversionA = (AB[(AB.testgroup == 'a') & (AB.Buy == 1)].Buy.count() / AB[AB.testgroup == 'a'].Buy.count()) * 100\n",
    "conversionA\n"
   ]
  },
  {
   "cell_type": "code",
   "execution_count": 75,
   "metadata": {},
   "outputs": [
    {
     "data": {
      "text/plain": [
       "0.8906235351586593"
      ]
     },
     "execution_count": 75,
     "metadata": {},
     "output_type": "execute_result"
    }
   ],
   "source": [
    "# Конверсии в покупку практически не различается в группах 0.95% в контрольной группе и 0.89% в тестовой.\n",
    "conversionB = (AB[(AB.testgroup == 'b') & (AB.Buy == 1)].Buy.count() / AB[AB.testgroup == 'b'].Buy.count()) * 100\n",
    "conversionB"
   ]
  },
  {
   "cell_type": "code",
   "execution_count": 76,
   "metadata": {},
   "outputs": [
    {
     "data": {
      "text/plain": [
       "(0.009448731221736537, 0.008826957877445581)"
      ]
     },
     "execution_count": 76,
     "metadata": {},
     "output_type": "execute_result"
    }
   ],
   "source": [
    "# Посчитаем дисперсию\n",
    "variance(AB[AB.testgroup == 'a'].Buy), variance(AB[AB.testgroup == 'b'].Buy)"
   ]
  },
  {
   "cell_type": "code",
   "execution_count": 77,
   "metadata": {},
   "outputs": [
    {
     "name": "stdout",
     "output_type": "stream",
     "text": [
      "Statistic: 4.443810968963101\n",
      "p-value: 0.03502858727059322\n",
      "Дисперсии отличаются статистически значимо\n"
     ]
    }
   ],
   "source": [
    "# Посмотрев на дисперсию, видим что она не однородная.\n",
    "statistic, p_value = levene(AB[AB.testgroup == 'a'].Buy, AB[AB.testgroup == 'b'].Buy)\n",
    "print(\"Statistic:\", statistic)\n",
    "print(\"p-value:\", p_value)\n",
    "if p_value > 0.05:\n",
    "    print(\"Дисперсии не отличаются статистически значимо\")\n",
    "else:\n",
    "    print(\"Дисперсии отличаются статистически значимо\")"
   ]
  },
  {
   "cell_type": "code",
   "execution_count": 78,
   "metadata": {},
   "outputs": [
    {
     "data": {
      "text/plain": [
       "(4.374729521260405, 0.03647561892312613)"
      ]
     },
     "execution_count": 78,
     "metadata": {},
     "output_type": "execute_result"
    }
   ],
   "source": [
    "# Для определения связи бинарных переменных и проверки наличия статистически значимой связи между \n",
    "# тестовой и контрольной группами лучше всего подойдет тест Хи-квадрат.\n",
    "# H0 - у пользователей из групп a и b конверсии в покупку не различаются. \n",
    "# H1 - у пользователей из групп a и b конверсии в покупку различаются.\n",
    "# pvalue 0.05\n",
    "stat, p, dof, expected = chi2_contingency(pd.crosstab(AB.Buy, AB.testgroup))\n",
    "stat, p\n",
    "# Т.к. pvalue=0.03647561892312613 < 0.05 принимаем H1.\n",
    "# У нас не достаточно доказательств сказать, что у пользователей из групп a и b конверсии в покупку не различаются."
   ]
  },
  {
   "cell_type": "markdown",
   "metadata": {},
   "source": [
    "#### Вывод\n",
    "По итогу анализа метрик мы получили:\n",
    "1. Различия ARPU в тестовой и контрольной группах статистически не значимы\n",
    "2. Различия ARPPU в тестовой и контрольной группах статистически не значимы\n",
    "3. Различия конверсий в покупку в тестовой и контрольной группах статистически значимы\n",
    "\n",
    "Так же видно, что группам судя по всему давались наборы акций с разным разбросом в стоимости. \\\n",
    "В тестовой группе был узкий ценовой диапозон, с намного большей минимальной стоимостью чем в контрольной группе. \\\n",
    "Видимо больший выбор акций в ценовом диапозоне показал конверсию выше в контрольной группе на ~7%, но при этом общая выручка оказалась меньше на 285 414y.e(~5,5%) и средний чек меньше на 1,34y.e(~5,3%). \\\n",
    "Повышение прибыли и среднего чека статистически не значима, поэтому основываясь на проведенных тестах различия групп не дают желаемого результата, для запуска тестового набора. \\\n",
    "И для нового АБ теста необходимо подумать как повысить конверсию в покупку. \\\n",
    "Потому что на данном этапе, если задача стояла в повышении конверсии, то она провалилась.\n"
   ]
  },
  {
   "cell_type": "markdown",
   "metadata": {},
   "source": [
    "## Задание 3 \n",
    "В игре Plants & Gardens каждый месяц проводятся тематические события, ограниченные по времени. \\\n",
    "В них игроки могут получить уникальные предметы для сада и персонажей, дополнительные монеты или бонусы. \\\n",
    "Для получения награды требуется пройти ряд уровней за определенное время. С помощью каких метрик можно оценить результаты последнего прошедшего события? "
   ]
  },
  {
   "cell_type": "markdown",
   "metadata": {},
   "source": [
    "Для оценки проведеного события я бы предложил использовать:\n",
    "1. Потраченное время. Учитывая что ивент ограничен по времени, для создания будущих ивентов и анализа текущего полезно будет замерять сколько игрок затратил времени на прохождение всех уровней.\n",
    "2. Конверсия завершения ивента. Не совсем понятно участвуют все игроки или событие надо принять. Но в любом случае надо учитывать сколько из участующих в ивенте игроков дошли до конца и получили награду.\n",
    "3. На каком уровне игрок забрасывает ивент.\n",
    "4. Затраченное время на каждый уровень. Для выявления багов или проблемных уровней надо наблюдать за средней проодимостью каждого уровня, чтобы выявлять в каких ситуациях игроки затрудняются пройти дальше. Так же если какие-то были пройдены слишком быстро, можно сделать посложнее в будущем или наоборот(зависит от цели ивента)\n",
    "5. Если участие в ивенте надо подтверждать дополнительным действием, то можно отслеживать кол-во желающих получить награду в зависимости от самой награды(и при маленькой активности увеличивать в будущем кол-во бонусов)\n"
   ]
  },
  {
   "cell_type": "markdown",
   "metadata": {},
   "source": [
    "Предположим, в другом событии мы усложнили механику событий так, что при каждой неудачной попытке выполнения уровня игрок будет откатываться на несколько уровней назад. \\\n",
    "Изменится ли набор метрик оценки результата? Если да, то как?"
   ]
  },
  {
   "cell_type": "markdown",
   "metadata": {},
   "source": [
    "В данном случае игрок может столкнутся с:\n",
    "1. Прохождением одного и того же уровня несколько раз\n",
    "2. Дополнительным стрессом при отбрасывании на несколько и более уровней включая до самого первого. \n",
    "С одной стороны делает награду более желанной и получение доставит больше удовольствия. Но с другой скорей всего меньше игроков закончит данный ивент(конечно зависит от сложности самого ивента)Так как не каждый захочет проходить один и тот же уровень по многу раз или просто может не хватить времени.\n",
    "\n",
    "В данном случае можно добавить несколько метрик к выше перечисленным:\n",
    "1. Сколько раз успешно проходился один и тот же уровень игроком.\n",
    "2. Можно замерять время потраченное на каждый повторный уровень.\n",
    "\n",
    "Экспериментировать можно как со сложностью, так и с наградами, все зависит от желаемого результата. Анализируя полученные данные подстраивать будущие ивенты под желаемые результаты. Если необходим дополнительный донат, то как раз можно экспериментировать с усложнением ивента и уровней и вводить за донат вещи или способности, которые упростят прохождение. Награду можно делать уникальной в таком случае, которую не получить другими способами. Если же важно удержать игроков или вернуть ушедших, то там уже свои нюансы.(может ивент будет презентовать новый патч, с продолжением игры и т.д.)\n",
    "\n"
   ]
  }
 ],
 "metadata": {
  "kernelspec": {
   "display_name": "Python 3",
   "language": "python",
   "name": "python3"
  },
  "language_info": {
   "codemirror_mode": {
    "name": "ipython",
    "version": 3
   },
   "file_extension": ".py",
   "mimetype": "text/x-python",
   "name": "python",
   "nbconvert_exporter": "python",
   "pygments_lexer": "ipython3",
   "version": "3.11.6"
  }
 },
 "nbformat": 4,
 "nbformat_minor": 2
}
